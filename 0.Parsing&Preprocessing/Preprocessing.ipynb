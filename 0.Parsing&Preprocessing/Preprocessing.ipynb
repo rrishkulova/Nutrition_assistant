{
 "cells": [
  {
   "attachments": {},
   "cell_type": "markdown",
   "metadata": {},
   "source": [
    "### Создание списка слов на основе спарсенных данных"
   ]
  },
  {
   "cell_type": "code",
   "execution_count": 1,
   "metadata": {},
   "outputs": [],
   "source": [
    "# импорт библиотек\n",
    "import json\n",
    "import re\n",
    "import os\n",
    "import pandas as pd\n",
    "import numpy as np"
   ]
  },
  {
   "cell_type": "code",
   "execution_count": 2,
   "metadata": {},
   "outputs": [
    {
     "name": "stdout",
     "output_type": "stream",
     "text": [
      "Datasets:  bread.json, cereals.json, dairy.json, drinks.json, fish.json, frozen.json, groats.json, health.json, jam.json, meat.json, nuts.json, preserves.json, ready_meals.json, sauces.json, sausage.json, seafood.json, semifinished.json, snaks.json, sweets.json, tea_coffee.json, veg_fruits.json\n",
      "\n",
      "Categories:  bread, cereals, dairy, drinks, fish, frozen, groats, health, jam, meat, nuts, preserves, ready_meals, sauces, sausage, seafood, semifinished, snaks, sweets, tea_coffee, veg_fruits\n"
     ]
    }
   ],
   "source": [
    "# получим название всех .json файлов с нужными данными в виде двух списков: с указанием расширения и без\n",
    "datasets = os.listdir('./Data')\n",
    "\n",
    "categories = []\n",
    "for x in datasets:\n",
    "    categories.append(x.replace('.json', ''))\n",
    "\n",
    "\n",
    "print('Datasets: ', \", \".join(datasets))\n",
    "print()\n",
    "print('Categories: ', \", \".join(categories))"
   ]
  },
  {
   "cell_type": "code",
   "execution_count": 3,
   "metadata": {},
   "outputs": [],
   "source": [
    "# переводим содержимое всех .json файлов в тип данных str\n",
    "for id, name in enumerate(datasets):\n",
    "    with open('./Data/' + name, 'r') as my_file:\n",
    "        file = my_file.read()\n",
    "    globals()['%s' % categories[id]] = str(json.dumps(file, ensure_ascii=False))   "
   ]
  },
  {
   "cell_type": "code",
   "execution_count": 4,
   "metadata": {},
   "outputs": [],
   "source": [
    "# удаляем знаки препинания\n",
    "for_replace = {'\\\\':'', '\"':'', '(':'', ')':'', '[':'', ']':'', '.':'', ',':'', ';':'', '«':'', '»':'', ':':''}\n",
    "\n",
    "for key in for_replace.keys():\n",
    "    # alcohol = alcohol.replace(key, str(for_replace[key]))\n",
    "    bread = bread.replace(key, str(for_replace[key]))\n",
    "    cereals = cereals.replace(key, str(for_replace[key]))\n",
    "    dairy = dairy.replace(key, str(for_replace[key]))\n",
    "    drinks = drinks.replace(key, str(for_replace[key]))    \n",
    "    fish = fish.replace(key, str(for_replace[key]))\n",
    "    frozen = frozen.replace(key, str(for_replace[key]))\n",
    "    groats = groats.replace(key, str(for_replace[key]))\n",
    "    health = health.replace(key, str(for_replace[key]))\n",
    "    jam = jam.replace(key, str(for_replace[key]))\n",
    "    meat = meat.replace(key, str(for_replace[key]))    \n",
    "    nuts = nuts.replace(key, str(for_replace[key]))\n",
    "    preserves = preserves.replace(key, str(for_replace[key]))\n",
    "    ready_meals = ready_meals.replace(key, str(for_replace[key]))\n",
    "    sauces = sauces.replace(key, str(for_replace[key]))\n",
    "    sausage = sausage.replace(key, str(for_replace[key]))\n",
    "    seafood = seafood.replace(key, str(for_replace[key]))    \n",
    "    semifinished = semifinished.replace(key, str(for_replace[key]))\n",
    "    snaks = snaks.replace(key, str(for_replace[key]))\n",
    "    sweets = sweets.replace(key, str(for_replace[key]))\n",
    "    tea_coffee = tea_coffee.replace(key, str(for_replace[key]))\n",
    "    veg_fruits = veg_fruits.replace(key, str(for_replace[key]))"
   ]
  },
  {
   "cell_type": "code",
   "execution_count": 5,
   "metadata": {},
   "outputs": [
    {
     "name": "stdout",
     "output_type": "stream",
     "text": [
      "Categories:  bread, cereals, dairy, drinks, fish, frozen, groats, health, jam, meat, nuts, preserves, ready_meals, sauces, sausage, seafood, semifinished, snaks, sweets, tea_coffee, veg_fruits\n"
     ]
    }
   ],
   "source": [
    "print('Categories: ', \", \".join(categories))"
   ]
  },
  {
   "cell_type": "code",
   "execution_count": 6,
   "metadata": {},
   "outputs": [],
   "source": [
    "# разделяем текст каждой строки-датасета по пробелам и объединяем все полученные списки\n",
    "# alcohol_split = alcohol.split(\" \")\n",
    "bread_split = bread.split(\" \")\n",
    "cereals_split = cereals.split(\" \")\n",
    "dairy_split = dairy.split(\" \")\n",
    "drinks_split = drinks.split(\" \")\n",
    "fish_split = fish.split(\" \")\n",
    "frozen_split = frozen.split(\" \")\n",
    "groats_split = groats.split(\" \")\n",
    "health_split = health.split(\" \")\n",
    "jam_split = jam.split(\" \")\n",
    "meat_split = meat.split(\" \")\n",
    "nuts_split = nuts.split(\" \")\n",
    "preserves_split = preserves.split(\" \")\n",
    "ready_meals_split = ready_meals.split(\" \")\n",
    "sauces_split = sauces.split(\" \")\n",
    "sausage_split = sausage.split(\" \")\n",
    "seafood_split = seafood.split(\" \")\n",
    "semifinished_split = semifinished.split(\" \")\n",
    "snaks_split = snaks.split(\" \")\n",
    "sweets_split = sweets.split(\" \")\n",
    "tea_coffee_split = tea_coffee.split(\" \")\n",
    "veg_fruits_split = veg_fruits.split(\" \")"
   ]
  },
  {
   "cell_type": "code",
   "execution_count": 7,
   "metadata": {},
   "outputs": [
    {
     "data": {
      "text/plain": [
       "405057"
      ]
     },
     "execution_count": 7,
     "metadata": {},
     "output_type": "execute_result"
    }
   ],
   "source": [
    "# объединяем все полученные списки в один\n",
    "total = [*bread_split, *cereals_split, *dairy_split, *drinks_split, *fish_split, *frozen_split, *groats_split, \n",
    "        *health_split, *jam_split, *meat_split, *nuts_split, *preserves_split, *ready_meals_split, *sauces_split, \n",
    "        *sausage_split, *seafood_split, *semifinished_split, *snaks_split, *sweets_split, *tea_coffee_split, *veg_fruits_split]\n",
    "\n",
    "# total = [*alcohol_split, *bread_split, *cereals_split, *dairy_split, *drinks_split, *fish_split, *frozen_split, *groats_split, \n",
    "#         *health_split, *jam_split, *meat_split, *nuts_split, *preserves_split, *ready_meals_split, *sauces_split, \n",
    "#         *sausage_split, *seafood_split, *semifinished_split, *snaks_split, *sweets_split, *tea_coffee_split, *veg_fruits_split]\n",
    "\n",
    "len(total)"
   ]
  },
  {
   "attachments": {},
   "cell_type": "markdown",
   "metadata": {},
   "source": [
    "##### Создание словаря для генерации синтетического датасета"
   ]
  },
  {
   "cell_type": "code",
   "execution_count": 8,
   "metadata": {},
   "outputs": [],
   "source": [
    "# оставляем только русский текст, цифры и дефис\n",
    "r = re.compile(\"^[а-яА-Я0-9/-]+$\")\n",
    "russian_total = [w for w in filter(r.match, total)]"
   ]
  },
  {
   "cell_type": "code",
   "execution_count": 9,
   "metadata": {},
   "outputs": [
    {
     "data": {
      "text/plain": [
       "382678"
      ]
     },
     "execution_count": 9,
     "metadata": {},
     "output_type": "execute_result"
    }
   ],
   "source": [
    "len(russian_total)"
   ]
  },
  {
   "cell_type": "code",
   "execution_count": 10,
   "metadata": {},
   "outputs": [
    {
     "data": {
      "text/html": [
       "<div>\n",
       "<style scoped>\n",
       "    .dataframe tbody tr th:only-of-type {\n",
       "        vertical-align: middle;\n",
       "    }\n",
       "\n",
       "    .dataframe tbody tr th {\n",
       "        vertical-align: top;\n",
       "    }\n",
       "\n",
       "    .dataframe thead th {\n",
       "        text-align: right;\n",
       "    }\n",
       "</style>\n",
       "<table border=\"1\" class=\"dataframe\">\n",
       "  <thead>\n",
       "    <tr style=\"text-align: right;\">\n",
       "      <th></th>\n",
       "      <th>ingredient</th>\n",
       "    </tr>\n",
       "  </thead>\n",
       "  <tbody>\n",
       "    <tr>\n",
       "      <th>0</th>\n",
       "      <td>аскорбиновая</td>\n",
       "    </tr>\n",
       "    <tr>\n",
       "      <th>1</th>\n",
       "      <td>кислота</td>\n",
       "    </tr>\n",
       "    <tr>\n",
       "      <th>2</th>\n",
       "      <td>Е300</td>\n",
       "    </tr>\n",
       "    <tr>\n",
       "      <th>3</th>\n",
       "      <td>агент</td>\n",
       "    </tr>\n",
       "    <tr>\n",
       "      <th>4</th>\n",
       "      <td>влагоудерживающий</td>\n",
       "    </tr>\n",
       "    <tr>\n",
       "      <th>...</th>\n",
       "      <td>...</td>\n",
       "    </tr>\n",
       "    <tr>\n",
       "      <th>382673</th>\n",
       "      <td>регулятор</td>\n",
       "    </tr>\n",
       "    <tr>\n",
       "      <th>382674</th>\n",
       "      <td>кислотности</td>\n",
       "    </tr>\n",
       "    <tr>\n",
       "      <th>382675</th>\n",
       "      <td>лимонная</td>\n",
       "    </tr>\n",
       "    <tr>\n",
       "      <th>382676</th>\n",
       "      <td>кислота</td>\n",
       "    </tr>\n",
       "    <tr>\n",
       "      <th>382677</th>\n",
       "      <td>сахарин</td>\n",
       "    </tr>\n",
       "  </tbody>\n",
       "</table>\n",
       "<p>382678 rows × 1 columns</p>\n",
       "</div>"
      ],
      "text/plain": [
       "               ingredient\n",
       "0            аскорбиновая\n",
       "1                 кислота\n",
       "2                    Е300\n",
       "3                   агент\n",
       "4       влагоудерживающий\n",
       "...                   ...\n",
       "382673          регулятор\n",
       "382674        кислотности\n",
       "382675           лимонная\n",
       "382676            кислота\n",
       "382677            сахарин\n",
       "\n",
       "[382678 rows x 1 columns]"
      ]
     },
     "execution_count": 10,
     "metadata": {},
     "output_type": "execute_result"
    }
   ],
   "source": [
    "df = pd.DataFrame(data=russian_total, columns=['ingredient'])\n",
    "df"
   ]
  },
  {
   "cell_type": "code",
   "execution_count": 11,
   "metadata": {},
   "outputs": [],
   "source": [
    "df_count = pd.DataFrame({'count' : df.groupby( [\"ingredient\"] ).size()}).reset_index().sort_values(by='count', ascending=False)\n",
    "df_count_1 = df_count[df_count['count'] == 1]['ingredient']\n",
    "df_counts = df_count[df_count['count'] != 1]['ingredient']"
   ]
  },
  {
   "cell_type": "code",
   "execution_count": 12,
   "metadata": {},
   "outputs": [],
   "source": [
    "# сохраним списки слов в txt формате, для того, чтобы исправить опечатки в словах\n",
    "# my_file = open(\"df_count_1.txt\", \"w+\")\n",
    "# for item in df_count_1:\n",
    "#     my_file.write(\"%s\\n\" % item)\n",
    "\n",
    "# my_file.close()"
   ]
  },
  {
   "cell_type": "code",
   "execution_count": 13,
   "metadata": {},
   "outputs": [],
   "source": [
    "# my_file = open(\"df_count.txt\", \"w+\")\n",
    "# for item in df_count:\n",
    "#     my_file.write(\"%s\\n\" % item)\n",
    "\n",
    "# my_file.close()"
   ]
  },
  {
   "cell_type": "code",
   "execution_count": 14,
   "metadata": {},
   "outputs": [],
   "source": [
    "f = pd.read_csv('df_count_1_new.txt', names=['ingredient'])\n",
    "df_1_new = pd.DataFrame({'count' : f.groupby( [\"ingredient\"] ).size()}).reset_index().sort_values(by='count', ascending=False)"
   ]
  },
  {
   "cell_type": "code",
   "execution_count": 15,
   "metadata": {},
   "outputs": [],
   "source": [
    "f = pd.read_csv('df_counts_new.txt', names=['ingredient'])\n",
    "df_new = pd.DataFrame({'count' : f.groupby( [\"ingredient\"] ).size()}).reset_index().sort_values(by='count', ascending=False)"
   ]
  },
  {
   "cell_type": "code",
   "execution_count": 16,
   "metadata": {},
   "outputs": [],
   "source": [
    "# result = pd.concat([df_1_new, df_new, df_count], ignore_index=True, sort=False)\n",
    "# result"
   ]
  },
  {
   "cell_type": "code",
   "execution_count": 17,
   "metadata": {},
   "outputs": [
    {
     "data": {
      "text/html": [
       "<div>\n",
       "<style scoped>\n",
       "    .dataframe tbody tr th:only-of-type {\n",
       "        vertical-align: middle;\n",
       "    }\n",
       "\n",
       "    .dataframe tbody tr th {\n",
       "        vertical-align: top;\n",
       "    }\n",
       "\n",
       "    .dataframe thead th {\n",
       "        text-align: right;\n",
       "    }\n",
       "</style>\n",
       "<table border=\"1\" class=\"dataframe\">\n",
       "  <thead>\n",
       "    <tr style=\"text-align: right;\">\n",
       "      <th></th>\n",
       "      <th>ingredient</th>\n",
       "      <th>count</th>\n",
       "    </tr>\n",
       "  </thead>\n",
       "  <tbody>\n",
       "    <tr>\n",
       "      <th>2631</th>\n",
       "      <td>Срок</td>\n",
       "      <td>38</td>\n",
       "    </tr>\n",
       "    <tr>\n",
       "      <th>2268</th>\n",
       "      <td>Пищевая</td>\n",
       "      <td>34</td>\n",
       "    </tr>\n",
       "    <tr>\n",
       "      <th>7602</th>\n",
       "      <td>сахар</td>\n",
       "      <td>28</td>\n",
       "    </tr>\n",
       "    <tr>\n",
       "      <th>3781</th>\n",
       "      <td>вода</td>\n",
       "      <td>24</td>\n",
       "    </tr>\n",
       "    <tr>\n",
       "      <th>2319</th>\n",
       "      <td>Продукт</td>\n",
       "      <td>22</td>\n",
       "    </tr>\n",
       "    <tr>\n",
       "      <th>...</th>\n",
       "      <td>...</td>\n",
       "      <td>...</td>\n",
       "    </tr>\n",
       "    <tr>\n",
       "      <th>3162</th>\n",
       "      <td>альфонсо</td>\n",
       "      <td>1</td>\n",
       "    </tr>\n",
       "    <tr>\n",
       "      <th>3160</th>\n",
       "      <td>альфа-амилазы</td>\n",
       "      <td>1</td>\n",
       "    </tr>\n",
       "    <tr>\n",
       "      <th>3158</th>\n",
       "      <td>альфа-амилаз</td>\n",
       "      <td>1</td>\n",
       "    </tr>\n",
       "    <tr>\n",
       "      <th>3157</th>\n",
       "      <td>альфа-Токоферол</td>\n",
       "      <td>1</td>\n",
       "    </tr>\n",
       "    <tr>\n",
       "      <th>9305</th>\n",
       "      <td>ячневая</td>\n",
       "      <td>1</td>\n",
       "    </tr>\n",
       "  </tbody>\n",
       "</table>\n",
       "<p>9306 rows × 2 columns</p>\n",
       "</div>"
      ],
      "text/plain": [
       "           ingredient  count\n",
       "2631             Срок     38\n",
       "2268          Пищевая     34\n",
       "7602            сахар     28\n",
       "3781             вода     24\n",
       "2319          Продукт     22\n",
       "...               ...    ...\n",
       "3162         альфонсо      1\n",
       "3160    альфа-амилазы      1\n",
       "3158     альфа-амилаз      1\n",
       "3157  альфа-Токоферол      1\n",
       "9305          ячневая      1\n",
       "\n",
       "[9306 rows x 2 columns]"
      ]
     },
     "execution_count": 17,
     "metadata": {},
     "output_type": "execute_result"
    }
   ],
   "source": [
    "df_new"
   ]
  },
  {
   "cell_type": "code",
   "execution_count": 18,
   "metadata": {},
   "outputs": [
    {
     "data": {
      "text/plain": [
       "10958"
      ]
     },
     "execution_count": 18,
     "metadata": {},
     "output_type": "execute_result"
    }
   ],
   "source": [
    "sum(df_new['count'])"
   ]
  },
  {
   "cell_type": "code",
   "execution_count": 19,
   "metadata": {},
   "outputs": [
    {
     "data": {
      "text/plain": [
       "382678"
      ]
     },
     "execution_count": 19,
     "metadata": {},
     "output_type": "execute_result"
    }
   ],
   "source": [
    "sum(df_count['count'])"
   ]
  },
  {
   "cell_type": "code",
   "execution_count": 20,
   "metadata": {},
   "outputs": [],
   "source": [
    "for index, ingr in enumerate(df_new['ingredient']):\n",
    "    list_ingr = list(df_count['ingredient'])\n",
    "\n",
    "    if ingr in list_ingr:\n",
    "        index_df_count = list_ingr.index(ingr)\n",
    "        df_new.iloc[index, 1] = df_new.iloc[index, 1] - 1 + df_count.iloc[index_df_count, 1]\n",
    "    # else:\n",
    "    #     df_new.iloc[index, 1] = df_new.iloc[index, 1]\n",
    "    "
   ]
  },
  {
   "cell_type": "code",
   "execution_count": 21,
   "metadata": {},
   "outputs": [
    {
     "data": {
      "text/plain": [
       "Срок        1\n",
       "404ккал/    1\n",
       "5-          1\n",
       "475         1\n",
       "472с        1\n",
       "           ..\n",
       "тальк       1\n",
       "такой       1\n",
       "также       1\n",
       "так         1\n",
       "ячневая     1\n",
       "Name: ingredient, Length: 9306, dtype: int64"
      ]
     },
     "execution_count": 21,
     "metadata": {},
     "output_type": "execute_result"
    }
   ],
   "source": [
    "df_new['ingredient'].value_counts()"
   ]
  },
  {
   "cell_type": "code",
   "execution_count": 22,
   "metadata": {},
   "outputs": [
    {
     "data": {
      "text/plain": [
       "369116"
      ]
     },
     "execution_count": 22,
     "metadata": {},
     "output_type": "execute_result"
    }
   ],
   "source": [
    "sum(df_new['count'])"
   ]
  },
  {
   "cell_type": "code",
   "execution_count": 39,
   "metadata": {},
   "outputs": [
    {
     "data": {
      "text/html": [
       "<div>\n",
       "<style scoped>\n",
       "    .dataframe tbody tr th:only-of-type {\n",
       "        vertical-align: middle;\n",
       "    }\n",
       "\n",
       "    .dataframe tbody tr th {\n",
       "        vertical-align: top;\n",
       "    }\n",
       "\n",
       "    .dataframe thead th {\n",
       "        text-align: right;\n",
       "    }\n",
       "</style>\n",
       "<table border=\"1\" class=\"dataframe\">\n",
       "  <thead>\n",
       "    <tr style=\"text-align: right;\">\n",
       "      <th></th>\n",
       "      <th>ingredient</th>\n",
       "      <th>count</th>\n",
       "    </tr>\n",
       "  </thead>\n",
       "  <tbody>\n",
       "    <tr>\n",
       "      <th>4350</th>\n",
       "      <td>вкусоароматическая</td>\n",
       "      <td>5</td>\n",
       "    </tr>\n",
       "  </tbody>\n",
       "</table>\n",
       "</div>"
      ],
      "text/plain": [
       "              ingredient  count\n",
       "4350  вкусоароматическая      5"
      ]
     },
     "execution_count": 39,
     "metadata": {},
     "output_type": "execute_result"
    }
   ],
   "source": [
    "df_1_new[df_1_new['ingredient'] == 'вкусоароматическая']"
   ]
  },
  {
   "cell_type": "code",
   "execution_count": 42,
   "metadata": {},
   "outputs": [
    {
     "data": {
      "text/html": [
       "<div>\n",
       "<style scoped>\n",
       "    .dataframe tbody tr th:only-of-type {\n",
       "        vertical-align: middle;\n",
       "    }\n",
       "\n",
       "    .dataframe tbody tr th {\n",
       "        vertical-align: top;\n",
       "    }\n",
       "\n",
       "    .dataframe thead th {\n",
       "        text-align: right;\n",
       "    }\n",
       "</style>\n",
       "<table border=\"1\" class=\"dataframe\">\n",
       "  <thead>\n",
       "    <tr style=\"text-align: right;\">\n",
       "      <th></th>\n",
       "      <th>ingredient</th>\n",
       "      <th>count</th>\n",
       "    </tr>\n",
       "  </thead>\n",
       "  <tbody>\n",
       "    <tr>\n",
       "      <th>12304</th>\n",
       "      <td>г.</td>\n",
       "      <td>9</td>\n",
       "    </tr>\n",
       "  </tbody>\n",
       "</table>\n",
       "</div>"
      ],
      "text/plain": [
       "      ingredient  count\n",
       "12304         г.      9"
      ]
     },
     "execution_count": 42,
     "metadata": {},
     "output_type": "execute_result"
    }
   ],
   "source": [
    "df_new[df_new['ingredient'] == 'г.']"
   ]
  },
  {
   "cell_type": "code",
   "execution_count": 25,
   "metadata": {},
   "outputs": [],
   "source": [
    "for index, ingr in enumerate(df_1_new['ingredient']):\n",
    "    list_ingr = list(df_new['ingredient'])\n",
    "\n",
    "    if ingr in list_ingr:\n",
    "        index_df_count = list_ingr.index(ingr)\n",
    "        df_new.iloc[index_df_count, 1] += df_1_new.iloc[index, 1]\n",
    "    else:\n",
    "        df_new.loc[len(df_new)] = df_1_new.loc[index]\n"
   ]
  },
  {
   "cell_type": "code",
   "execution_count": 43,
   "metadata": {},
   "outputs": [
    {
     "data": {
      "text/plain": [
       "и                    1\n",
       "время                1\n",
       "вяленого             1\n",
       "вытяжки              1\n",
       "высушенных           1\n",
       "                    ..\n",
       "свежезамороженные    1\n",
       "нерки                1\n",
       "свежезамороженный    1\n",
       "премиум              1\n",
       "ямай                 1\n",
       "Name: ingredient, Length: 12919, dtype: int64"
      ]
     },
     "execution_count": 43,
     "metadata": {},
     "output_type": "execute_result"
    }
   ],
   "source": [
    "df_new['ingredient'].value_counts()"
   ]
  },
  {
   "cell_type": "code",
   "execution_count": 30,
   "metadata": {},
   "outputs": [],
   "source": [
    "df_new = df_new.drop_duplicates(['ingredient'])"
   ]
  },
  {
   "cell_type": "code",
   "execution_count": 35,
   "metadata": {},
   "outputs": [],
   "source": [
    "df_new = df_new.sort_values(by='count', ascending=False)"
   ]
  },
  {
   "cell_type": "code",
   "execution_count": 36,
   "metadata": {},
   "outputs": [],
   "source": [
    "# dict_for_gen = df_new['ingredient']\n",
    "# my_file = open(\"dict_for_gen.txt\", \"w+\")\n",
    "# for item in dict_for_gen:\n",
    "#     my_file.write(\"%s\\n\" % item)\n",
    "\n",
    "# my_file.close()"
   ]
  },
  {
   "cell_type": "code",
   "execution_count": 37,
   "metadata": {},
   "outputs": [
    {
     "data": {
      "text/plain": [
       "382268"
      ]
     },
     "execution_count": 37,
     "metadata": {},
     "output_type": "execute_result"
    }
   ],
   "source": [
    "sum(df_new['count'])"
   ]
  },
  {
   "cell_type": "code",
   "execution_count": 376,
   "metadata": {},
   "outputs": [
    {
     "data": {
      "text/plain": [
       "14269"
      ]
     },
     "execution_count": 376,
     "metadata": {},
     "output_type": "execute_result"
    }
   ],
   "source": [
    "sum(df_1_new['count'])"
   ]
  },
  {
   "cell_type": "code",
   "execution_count": 377,
   "metadata": {},
   "outputs": [
    {
     "data": {
      "text/plain": [
       "383385"
      ]
     },
     "execution_count": 377,
     "metadata": {},
     "output_type": "execute_result"
    }
   ],
   "source": [
    "14269 + 369116"
   ]
  },
  {
   "cell_type": "code",
   "execution_count": 392,
   "metadata": {},
   "outputs": [
    {
     "data": {
      "text/plain": [
       "382268"
      ]
     },
     "execution_count": 392,
     "metadata": {},
     "output_type": "execute_result"
    }
   ],
   "source": [
    "sum(df_new['count'])"
   ]
  },
  {
   "cell_type": "code",
   "execution_count": 393,
   "metadata": {},
   "outputs": [
    {
     "data": {
      "text/html": [
       "<div>\n",
       "<style scoped>\n",
       "    .dataframe tbody tr th:only-of-type {\n",
       "        vertical-align: middle;\n",
       "    }\n",
       "\n",
       "    .dataframe tbody tr th {\n",
       "        vertical-align: top;\n",
       "    }\n",
       "\n",
       "    .dataframe thead th {\n",
       "        text-align: right;\n",
       "    }\n",
       "</style>\n",
       "<table border=\"1\" class=\"dataframe\">\n",
       "  <thead>\n",
       "    <tr style=\"text-align: right;\">\n",
       "      <th></th>\n",
       "      <th>ingredient</th>\n",
       "      <th>count</th>\n",
       "    </tr>\n",
       "  </thead>\n",
       "  <tbody>\n",
       "    <tr>\n",
       "      <th>4720</th>\n",
       "      <td>и</td>\n",
       "      <td>7280</td>\n",
       "    </tr>\n",
       "    <tr>\n",
       "      <th>3279</th>\n",
       "      <td>ароматизатор</td>\n",
       "      <td>5080</td>\n",
       "    </tr>\n",
       "    <tr>\n",
       "      <th>6263</th>\n",
       "      <td>натрия</td>\n",
       "      <td>4412</td>\n",
       "    </tr>\n",
       "    <tr>\n",
       "      <th>5103</th>\n",
       "      <td>кислота</td>\n",
       "      <td>3735</td>\n",
       "    </tr>\n",
       "    <tr>\n",
       "      <th>0</th>\n",
       "      <td>-</td>\n",
       "      <td>3616</td>\n",
       "    </tr>\n",
       "    <tr>\n",
       "      <th>...</th>\n",
       "      <td>...</td>\n",
       "      <td>...</td>\n",
       "    </tr>\n",
       "    <tr>\n",
       "      <th>12997</th>\n",
       "      <td>льняного</td>\n",
       "      <td>1</td>\n",
       "    </tr>\n",
       "    <tr>\n",
       "      <th>12998</th>\n",
       "      <td>льняной</td>\n",
       "      <td>1</td>\n",
       "    </tr>\n",
       "    <tr>\n",
       "      <th>12999</th>\n",
       "      <td>льняные</td>\n",
       "      <td>1</td>\n",
       "    </tr>\n",
       "    <tr>\n",
       "      <th>13000</th>\n",
       "      <td>любой</td>\n",
       "      <td>1</td>\n",
       "    </tr>\n",
       "    <tr>\n",
       "      <th>13938</th>\n",
       "      <td>ямай</td>\n",
       "      <td>1</td>\n",
       "    </tr>\n",
       "  </tbody>\n",
       "</table>\n",
       "<p>12919 rows × 2 columns</p>\n",
       "</div>"
      ],
      "text/plain": [
       "         ingredient  count\n",
       "4720              и   7280\n",
       "3279   ароматизатор   5080\n",
       "6263         натрия   4412\n",
       "5103        кислота   3735\n",
       "0                 -   3616\n",
       "...             ...    ...\n",
       "12997      льняного      1\n",
       "12998       льняной      1\n",
       "12999       льняные      1\n",
       "13000         любой      1\n",
       "13938          ямай      1\n",
       "\n",
       "[12919 rows x 2 columns]"
      ]
     },
     "execution_count": 393,
     "metadata": {},
     "output_type": "execute_result"
    }
   ],
   "source": [
    "df_new.sort_values(by='count', ascending=False)"
   ]
  },
  {
   "cell_type": "code",
   "execution_count": 19,
   "metadata": {},
   "outputs": [],
   "source": []
  },
  {
   "cell_type": "code",
   "execution_count": null,
   "metadata": {},
   "outputs": [],
   "source": []
  },
  {
   "cell_type": "code",
   "execution_count": null,
   "metadata": {},
   "outputs": [],
   "source": [
    "# my_file = open(\"russian_total.txt\", \"w+\")\n",
    "# for item in russian_total:\n",
    "#     my_file.write(\"%s\\n\" % item)\n",
    "\n",
    "# my_file.close()"
   ]
  },
  {
   "attachments": {},
   "cell_type": "markdown",
   "metadata": {},
   "source": [
    "##### Создание словаря для распознавания текста"
   ]
  },
  {
   "cell_type": "code",
   "execution_count": null,
   "metadata": {},
   "outputs": [],
   "source": [
    "# # оставляем только русский текст в нижнем регистре\n",
    "# r = re.compile(\"^[а-яА-Я]+$\")\n",
    "# russian_low = [w.lower() for w in filter(r.match, total)]"
   ]
  },
  {
   "cell_type": "code",
   "execution_count": null,
   "metadata": {},
   "outputs": [
    {
     "data": {
      "text/plain": [
       "13708"
      ]
     },
     "execution_count": 9,
     "metadata": {},
     "output_type": "execute_result"
    }
   ],
   "source": [
    "# удаляем дубликаты\n",
    "result = []\n",
    "for x in russian:\n",
    "    if x.lower() not in result:\n",
    "        result.append(x.lower())\n",
    "len(result)"
   ]
  },
  {
   "cell_type": "code",
   "execution_count": null,
   "metadata": {},
   "outputs": [],
   "source": [
    "# my_file = open(\"result_total.txt\", \"w+\")\n",
    "# for item in result:\n",
    "#     my_file.write(\"%s\\n\" % item)\n",
    "\n",
    "# my_file.close()"
   ]
  },
  {
   "cell_type": "code",
   "execution_count": null,
   "metadata": {},
   "outputs": [],
   "source": [
    "# #Макрос для MS Word\n",
    "\n",
    "# Sub Procedure_3()\n",
    " \n",
    "#     Dim i As Long\n",
    "    \n",
    "#     For i = ActiveDocument.SpellingErrors.Count To 1 Step -1\n",
    "#         ActiveDocument.SpellingErrors(i).Delete\n",
    "#     Next i\n",
    "    \n",
    "# End Sub"
   ]
  },
  {
   "cell_type": "code",
   "execution_count": null,
   "metadata": {},
   "outputs": [],
   "source": []
  },
  {
   "cell_type": "code",
   "execution_count": null,
   "metadata": {},
   "outputs": [],
   "source": [
    "# # переводим содержимое всех .json файлов в тип данных str\n",
    "# with open(\"/home/rushana/Final_project/perekrestok/dairy.json\", \"r\") as my_file:\n",
    "#     capitals = my_file.read()\n",
    "# dairy = str(json.dumps(capitals, ensure_ascii=False))\n",
    "\n",
    "\n",
    "# with open(\"/home/rushana/Final_project/perekrestok/groats.json\", \"r\") as my_file:\n",
    "#     capitals = my_file.read()\n",
    "# groats = str(json.dumps(capitals, ensure_ascii=False))\n",
    "\n",
    "\n",
    "# with open(\"/home/rushana/Final_project/perekrestok/ready_meals.json\", \"r\") as my_file:\n",
    "#     capitals = my_file.read()\n",
    "# ready_meals = str(json.dumps(capitals, ensure_ascii=False))\n",
    "\n",
    "\n",
    "# with open(\"/home/rushana/Final_project/perekrestok/snaks.json\", \"r\") as my_file:\n",
    "#     capitals = my_file.read()\n",
    "# snaks = str(json.dumps(capitals, ensure_ascii=False))\n",
    "\n",
    "\n",
    "# with open(\"/home/rushana/Final_project/perekrestok/veg_fruits.json\", \"r\") as my_file:\n",
    "#     capitals = my_file.read()\n",
    "# veg_fruits = str(json.dumps(capitals, ensure_ascii=False))\n",
    "\n",
    "# s = [dairy, groats, ready_meals, snaks, veg_fruits]"
   ]
  },
  {
   "cell_type": "code",
   "execution_count": null,
   "metadata": {},
   "outputs": [],
   "source": [
    "# # удаляем знаки препинания\n",
    "# for_replace = {'\\\\':'', '\"':'', '(':'', ')':'', '[':'', ']':'', '.':'', ',':'', ';':'', '«':'', '»':'', ':':''}\n",
    "# for key in for_replace.keys():\n",
    "#     dairy = dairy.replace(key, str(for_replace[key]))\n",
    "#     groats = groats.replace(key, str(for_replace[key]))\n",
    "#     ready_meals = ready_meals.replace(key, str(for_replace[key]))\n",
    "#     snaks = snaks.replace(key, str(for_replace[key]))\n",
    "#     veg_fruits = veg_fruits.replace(key, str(for_replace[key]))"
   ]
  },
  {
   "cell_type": "code",
   "execution_count": null,
   "metadata": {},
   "outputs": [
    {
     "data": {
      "text/plain": [
       "111000"
      ]
     },
     "execution_count": 24,
     "metadata": {},
     "output_type": "execute_result"
    }
   ],
   "source": [
    "# # разделяем текст каждой строки-датасета по пробелам и объединяем все полученные списки\n",
    "# dairy_split = dairy.split(\" \")\n",
    "# groats_split = groats.split(\" \")\n",
    "# ready_meals_split = ready_meals.split(\" \")\n",
    "# snaks_split = snaks.split(\" \")\n",
    "# veg_fruits_split = veg_fruits.split(\" \")\n",
    "\n",
    "# total = [dairy_split, groats_split, ready_meals_split, snaks_split, veg_fruits_split]\n",
    "# len(total)"
   ]
  },
  {
   "cell_type": "code",
   "execution_count": null,
   "metadata": {},
   "outputs": [],
   "source": [
    "# # оставляем только русский текст в нижнем регистре\n",
    "# r = re.compile(\"^[а-яА-Я]+$\")\n",
    "# russian = [w.lower() for w in filter(r.match, total)]"
   ]
  },
  {
   "cell_type": "code",
   "execution_count": null,
   "metadata": {},
   "outputs": [
    {
     "data": {
      "text/plain": [
       "6186"
      ]
     },
     "execution_count": 31,
     "metadata": {},
     "output_type": "execute_result"
    }
   ],
   "source": [
    "# # удаляем дубликаты\n",
    "# result = []\n",
    "# for x in russian:\n",
    "#     if x.lower() not in result:\n",
    "#         result.append(x.lower())\n",
    "# len(result)"
   ]
  },
  {
   "cell_type": "code",
   "execution_count": null,
   "metadata": {},
   "outputs": [],
   "source": [
    "# my_file = open(\"result.txt\", \"w+\")\n",
    "# for item in result:\n",
    "#     my_file.write(\"%s\\n\" % item)\n",
    "\n",
    "# my_file.close()"
   ]
  }
 ],
 "metadata": {
  "kernelspec": {
   "display_name": "base",
   "language": "python",
   "name": "python3"
  },
  "language_info": {
   "codemirror_mode": {
    "name": "ipython",
    "version": 3
   },
   "file_extension": ".py",
   "mimetype": "text/x-python",
   "name": "python",
   "nbconvert_exporter": "python",
   "pygments_lexer": "ipython3",
   "version": "3.10.6"
  },
  "orig_nbformat": 4,
  "vscode": {
   "interpreter": {
    "hash": "ce2594cdb9e445f346d0a694a24e38e71fbdcfb1ed18ae9472ebe6fe49b4f43f"
   }
  }
 },
 "nbformat": 4,
 "nbformat_minor": 2
}
